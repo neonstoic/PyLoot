{
 "cells": [
  {
   "cell_type": "markdown",
   "source": [
    "# PyLoot\n",
    "\n",
    "This notebook is a python implementation of the loot generating part of the code in the [Loot smart contract](https://etherscan.io/address/0xff9c1b15b16263c61d017ee9f65c50e4ae0113d7#code).\n",
    "\n",
    "Loot struck me because as simple as it is, the loot was all created with a smart contract. Every Loot NFT minted executed the smart contract code and created a SVG image. That, in itself, is brilliant. To add to this great idea is the whole concept of creating D&D loot as NFT's.\n",
    "\n",
    "This python implementation is obviously not as brilliant, but was a simple and fun exercise. :)"
   ],
   "metadata": {}
  },
  {
   "cell_type": "code",
   "execution_count": 24,
   "source": [
    "import random\n",
    "import json\n",
    "import base64\n",
    "from IPython.display import SVG, HTML, display\n",
    "\n",
    "weapons = [\"Warhammer\",\"Quarterstaff\",\"Maul\",\"Mace\",\"Club\",\"Katana\",\"Falchion\",\"Scimitar\",\"Long Sword\",\"Short Sword\",\"Ghost Wand\",\"Grave Wand\",\"Bone Wand\",\"Wand\",\"Grimoire\",\"Chronicle\",\"Tome\",\"Book\"]\n",
    "chestArmor = [\"Divine Robe\",\"Silk Robe\",\"Linen Robe\",\"Robe\",\"Shirt\",\"Demon Husk\",\"Dragonskin Armor\",\"Studded Leather Armor\",\"Hard Leather Armor\",\"Leather Armor\",\"Holy Chestplate\",\"Ornate Chestplate\",\"Plate Mail\",\"Chain Mail\",\"Ring Mail\"]\n",
    "headArmor = [\"Ancient Helm\",\"Ornate Helm\",\"Great Helm\",\"Full Helm\",\"Helm\",\"Demon Crown\",\"Dragon's Crown\",\"War Cap\",\"Leather Cap\",\"Cap\",\"Crown\",\"Divine Hood\",\"Silk Hood\",\"Linen Hood\",\"Hood\"]\n",
    "waistArmor = [\"Ornate Belt\",\"War Belt\",\"Plated Belt\",\"Mesh Belt\",\"Heavy Belt\",\"Demonhide Belt\",\"Dragonskin Belt\",\"Studded Leather Belt\",\"Hard Leather Belt\",\"Leather Belt\",\"Brightsilk Sash\",\"Silk Sash\",\"Wool Sash\",\"Linen Sash\",\"Sash\"]\n",
    "footArmor = [\"Holy Greaves\",\"Ornate Greaves\",\"Greaves\",\"Chain Boots\",\"Heavy Boots\",\"Demonhide Boots\",\"Dragonskin Boots\",\"Studded Leather Boots\",\"Hard Leather Boots\",\"Leather Boots\",\"Divine Slippers\",\"Silk Slippers\",\"Wool Shoes\",\"Linen Shoes\",\"Shoes\"]\n",
    "handArmor = [\"Holy Gauntlets\",\"Ornate Gauntlets\",\"Gauntlets\",\"Chain Gloves\",\"Heavy Gloves\",\"Demon's Hands\",\"Dragonskin Gloves\",\"Studded Leather Gloves\",\"Hard Leather Gloves\",\"Leather Gloves\",\"Divine Gloves\",\"Silk Gloves\",\"Wool Gloves\",\"Linen Gloves\",\"Gloves\"]\n",
    "necklaces = [\"Necklace\",\"Amulet\",\"Pendant\"]\n",
    "rings = [\"Gold Ring\",\"Silver Ring\",\"Bronze Ring\",\"Platinum Ring\",\"Titanium Ring\"]\n",
    "suffixes = [\"of Power\",\"of Giants\",\"of Titans\",\"of Skill\",\"of Perfection\",\"of Brilliance\",\"of Enlightenment\",\"of Protection\",\"of Anger\",\"of Rage\",\"of Fury\",\"of Vitriol\",\"of the Fox\",\"of Detection\",\"of Reflection\",\"of the Twins\"]\n",
    "namePrefixes = [\"Agony\", \"Apocalypse\", \"Armageddon\", \"Beast\", \"Behemoth\", \"Blight\", \"Blood\", \"Bramble\", \"Brimstone\", \"Brood\", \"Carrion\", \"Cataclysm\", \"Chimeric\", \"Corpse\", \"Corruption\", \"Damnation\",\"Death\", \"Demon\", \"Dire\", \"Dragon\", \"Dread\", \"Doom\", \"Dusk\", \"Eagle\", \"Empyrean\", \"Fate\", \"Foe\",\"Gale\", \"Ghoul\", \"Gloom\", \"Glyph\", \"Golem\", \"Grim\", \"Hate\", \"Havoc\", \"Honour\", \"Horror\", \"Hypnotic\",\"Kraken\", \"Loath\", \"Maelstrom\", \"Mind\", \"Miracle\", \"Morbid\", \"Oblivion\", \"Onslaught\", \"Pain\",\"Pandemonium\", \"Phoenix\", \"Plague\", \"Rage\", \"Rapture\", \"Rune\", \"Skull\", \"Sol\", \"Soul\", \"Sorrow\",\"Spirit\", \"Storm\", \"Tempest\", \"Torment\", \"Vengeance\", \"Victory\", \"Viper\", \"Vortex\", \"Woe\", \"Wrath\",\"Light's\", \"Shimmering\"]\n",
    "nameSuffixes = [\"Bane\",\"Root\",\"Bite\",\"Song\",\"Roar\",\"Grasp\",\"Instrument\",\"Glow\",\"Bender\",\"Shadow\",\"Whisper\",\"Shout\",\"Growl\",\"Tear\",\"Peak\",\"Form\",\"Sun\",\"Moon\"]\n",
    "    \n",
    "def getWeapon(tokenId) :\n",
    "    return pluck(tokenId, \"WEAPON\", weapons)\n",
    "    \n",
    "def getChest(tokenId) :\n",
    "    return pluck(tokenId, \"CHEST\", chestArmor)\n",
    "    \n",
    "def getHead(tokenId) :\n",
    "    return pluck(tokenId, \"HEAD\", headArmor)\n",
    "    \n",
    "def getWaist(tokenId) :\n",
    "    return pluck(tokenId, \"WAIST\", waistArmor)\n",
    "\n",
    "def getFoot(tokenId) :\n",
    "    return pluck(tokenId, \"FOOT\", footArmor)\n",
    "    \n",
    "def getHand(tokenId) :\n",
    "    return pluck(tokenId, \"HAND\", handArmor)\n",
    "    \n",
    "def getNeck(tokenId) :\n",
    "    return pluck(tokenId, \"NECK\", necklaces)\n",
    "    \n",
    "def getRing(tokenId) :\n",
    "    return pluck(tokenId, \"RING\", rings)\n",
    "\n",
    "\n",
    "def pluck(tokenId, keyPrefix, source) :    \n",
    "    output = random.choice(source)\n",
    "    greatness = random.randint(0,21)\n",
    "    if (greatness > 14) :\n",
    "        output = \" \".join([output, random.choice(suffixes)])\n",
    "    \n",
    "    if (greatness >= 19) :\n",
    "        name = '\"' + random.choice(nameSuffixes) + ' ' + random.choice(nameSuffixes) + '\" ' \n",
    "        if (greatness == 19) :\n",
    "            output = name + output\n",
    "        else :\n",
    "            output = name + output + \" +1\"\n",
    "    \n",
    "    return output\n",
    "\n",
    "def tokenURI(tokenId) :\n",
    "    parts = ['<svg xmlns=\"http://www.w3.org/2000/svg\" preserveAspectRatio=\"xMinYMin meet\" viewBox=\"0 0 350 350\"><style>.base { fill: white; font-family: serif; font-size: 14px; }</style><rect width=\"100%\" height=\"100%\" fill=\"black\" /><text x=\"10\" y=\"20\" class=\"base\">', \\\n",
    "        getWeapon(tokenId), \\\n",
    "        '</text><text x=\"10\" y=\"40\" class=\"base\">', \\\n",
    "        getChest(tokenId), \\\n",
    "        '</text><text x=\"10\" y=\"60\" class=\"base\">', \\\n",
    "        getHead(tokenId), \\\n",
    "        '</text><text x=\"10\" y=\"80\" class=\"base\">', \\\n",
    "        getWaist(tokenId), \\\n",
    "        '</text><text x=\"10\" y=\"100\" class=\"base\">', \\\n",
    "        getFoot(tokenId), \\\n",
    "        '</text><text x=\"10\" y=\"120\" class=\"base\">', \\\n",
    "        getHand(tokenId), \\\n",
    "        '</text><text x=\"10\" y=\"140\" class=\"base\">', \\\n",
    "        getNeck(tokenId), \\\n",
    "        '</text><text x=\"10\" y=\"160\" class=\"base\">', \\\n",
    "        getRing(tokenId), \\\n",
    "        '</text></svg>']\n",
    "\n",
    "    output = \"\".join(parts)\n",
    "    imgdata = base64.b64encode(output.encode('ascii')).decode('ascii')\n",
    "    json = '{\"name\": \"Bag #' + str(tokenId) + '\", \"description\": \"More Loot is additional randomized adventurer gear generated and stored on chain. Maximum supply is dynamic, increasing at 1/10th of Ethereum\\'s block rate. Stats, images, and other functionality are intentionally omitted for others to interpret. Feel free to use More Loot in any way you want.\", \"image\": \"data:image/svg+xml;base64,' + imgdata + '\"}'\n",
    "    \n",
    "    return json;\n",
    "\n",
    "tokenjson = json.loads(tokenURI(1))\n",
    "display(HTML('<html><body><img src=\"'+tokenjson['image']+'\" width=400/></body></html>'))"
   ],
   "outputs": [
    {
     "output_type": "display_data",
     "data": {
      "text/html": [
       "<html><body><img src=\"data:image/svg+xml;base64,PHN2ZyB4bWxucz0iaHR0cDovL3d3dy53My5vcmcvMjAwMC9zdmciIHByZXNlcnZlQXNwZWN0UmF0aW89InhNaW5ZTWluIG1lZXQiIHZpZXdCb3g9IjAgMCAzNTAgMzUwIj48c3R5bGU+LmJhc2UgeyBmaWxsOiB3aGl0ZTsgZm9udC1mYW1pbHk6IHNlcmlmOyBmb250LXNpemU6IDE0cHg7IH08L3N0eWxlPjxyZWN0IHdpZHRoPSIxMDAlIiBoZWlnaHQ9IjEwMCUiIGZpbGw9ImJsYWNrIiAvPjx0ZXh0IHg9IjEwIiB5PSIyMCIgY2xhc3M9ImJhc2UiPldhbmQ8L3RleHQ+PHRleHQgeD0iMTAiIHk9IjQwIiBjbGFzcz0iYmFzZSI+U3R1ZGRlZCBMZWF0aGVyIEFybW9yPC90ZXh0Pjx0ZXh0IHg9IjEwIiB5PSI2MCIgY2xhc3M9ImJhc2UiPkdyZWF0IEhlbG08L3RleHQ+PHRleHQgeD0iMTAiIHk9IjgwIiBjbGFzcz0iYmFzZSI+TGVhdGhlciBCZWx0PC90ZXh0Pjx0ZXh0IHg9IjEwIiB5PSIxMDAiIGNsYXNzPSJiYXNlIj5MZWF0aGVyIEJvb3RzPC90ZXh0Pjx0ZXh0IHg9IjEwIiB5PSIxMjAiIGNsYXNzPSJiYXNlIj5MaW5lbiBHbG92ZXM8L3RleHQ+PHRleHQgeD0iMTAiIHk9IjE0MCIgY2xhc3M9ImJhc2UiPk5lY2tsYWNlIG9mIEJyaWxsaWFuY2U8L3RleHQ+PHRleHQgeD0iMTAiIHk9IjE2MCIgY2xhc3M9ImJhc2UiPlNpbHZlciBSaW5nPC90ZXh0Pjwvc3ZnPg==\" width=400/></body></html>"
      ],
      "text/plain": [
       "<IPython.core.display.HTML object>"
      ]
     },
     "metadata": {}
    }
   ],
   "metadata": {}
  }
 ],
 "metadata": {
  "orig_nbformat": 4,
  "language_info": {
   "name": "python",
   "version": "3.8.10",
   "mimetype": "text/x-python",
   "codemirror_mode": {
    "name": "ipython",
    "version": 3
   },
   "pygments_lexer": "ipython3",
   "nbconvert_exporter": "python",
   "file_extension": ".py"
  },
  "kernelspec": {
   "name": "python3",
   "display_name": "Python 3.8.10 64-bit"
  },
  "interpreter": {
   "hash": "916dbcbb3f70747c44a77c7bcd40155683ae19c65e1c03b4aa3499c5328201f1"
  }
 },
 "nbformat": 4,
 "nbformat_minor": 2
}